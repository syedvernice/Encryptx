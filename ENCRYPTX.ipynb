{
  "nbformat": 4,
  "nbformat_minor": 0,
  "metadata": {
    "colab": {
      "provenance": [],
      "toc_visible": true
    },
    "kernelspec": {
      "name": "python3",
      "display_name": "Python 3"
    },
    "language_info": {
      "name": "python"
    }
  },
  "cells": [
    {
      "cell_type": "code",
      "source": [
        "!git clone https://github.com/syedvernice/Encryptx.git"
      ],
      "metadata": {
        "colab": {
          "base_uri": "https://localhost:8080/"
        },
        "id": "mjIZ7tJnsavi",
        "outputId": "93c67989-c5e3-424b-bea1-d693996c1951"
      },
      "execution_count": 1,
      "outputs": [
        {
          "output_type": "stream",
          "name": "stdout",
          "text": [
            "Cloning into 'Encryptx'...\n",
            "warning: You appear to have cloned an empty repository.\n"
          ]
        }
      ]
    },
    {
      "cell_type": "code",
      "execution_count": 2,
      "metadata": {
        "id": "csHuFRtE4fKW",
        "colab": {
          "base_uri": "https://localhost:8080/"
        },
        "outputId": "c817e6fc-e535-43bd-d612-3a1f76238616"
      },
      "outputs": [
        {
          "output_type": "stream",
          "name": "stdout",
          "text": [
            "Hello!\n",
            "Enter the first number: 3\n",
            "Enter the second number: 4\n",
            "\n",
            "Choose the operation:\n",
            "1. Addition (+)\n",
            "2. Subtraction (-)\n",
            "3. Multiplication (*)\n",
            "4. Division (/)\n",
            "Enter the operation (+, -, *, /): /\n",
            "\n",
            "Division result: 0.75\n"
          ]
        }
      ],
      "source": [
        "#CALCULATOR\n",
        "def calculator():\n",
        "    print(\"Hello!\")\n",
        "\n",
        "\n",
        "    try:\n",
        "        num1 = float(input(\"Enter the first number: \"))\n",
        "        num2 = float(input(\"Enter the second number: \"))\n",
        "    except ValueError:\n",
        "        print(\"Please enter numeric values.\")\n",
        "        return\n",
        "\n",
        "    print(\"\\nChoose the operation:\")\n",
        "    print(\"1. Addition (+)\")\n",
        "    print(\"2. Subtraction (-)\")\n",
        "    print(\"3. Multiplication (*)\")\n",
        "    print(\"4. Division (/)\")\n",
        "\n",
        "    art_op = input(\"Enter the operation (+, -, *, /): \")\n",
        "\n",
        "    # Perform calculation\n",
        "    if art_op == '+':\n",
        "        result = num1 + num2\n",
        "        operation = \"Addition\"\n",
        "    elif art_op == '-':\n",
        "        result = num1 - num2\n",
        "        operation = \"Subtraction\"\n",
        "    elif art_op == '*':\n",
        "        result = num1 * num2\n",
        "        operation = \"Multiplication\"\n",
        "    elif art_op == '/':\n",
        "        if num2 == 0:\n",
        "            print(\"Error: Division by zero is not allowed.\")\n",
        "            return\n",
        "        result = num1 / num2\n",
        "        operation = \"Division\"\n",
        "    else:\n",
        "        print(\"Invalid operation choice.\")\n",
        "        return\n",
        "\n",
        "\n",
        "    print(f\"\\n{operation} result: {result}\")\n",
        "\n",
        "\n",
        "calculator()\n"
      ]
    },
    {
      "cell_type": "code",
      "source": [
        "#rock paper scissors game\n",
        "import random\n",
        "\n",
        "user_score = 0\n",
        "computer_score = 0\n",
        "\n",
        "print(\"HELLO..\")\n",
        "print(\"Instructions: Type 'rock', 'paper', or 'scissors' to play. Type 'exit' to quit the game.\\n\")\n",
        "\n",
        "while True:\n",
        "    user_choice = input(\"Enter your choice (rock/paper/scissors): \").lower()\n",
        "\n",
        "    if user_choice == \"exit\":\n",
        "        print(\"Thanks for playing.\")\n",
        "        print(\"Final Scores - You:\", user_score, \"Computer:\", computer_score)\n",
        "        break\n",
        "\n",
        "    if user_choice not in [\"rock\", \"paper\", \"scissors\"]:\n",
        "        print(\"Invalid choice. Please choose rock, paper, or scissors.\\n\")\n",
        "        continue\n",
        "\n",
        "    computer_choice = random.choice([\"rock\", \"paper\", \"scissors\"])\n",
        "    print(\"Computer chose:\", computer_choice)\n",
        "\n",
        "    if user_choice == computer_choice:\n",
        "        print(\"It's a tie..\\n\")\n",
        "    elif (user_choice == \"rock\" and computer_choice == \"scissors\") or \\\n",
        "         (user_choice == \"scissors\" and computer_choice == \"paper\") or \\\n",
        "         (user_choice == \"paper\" and computer_choice == \"rock\"):\n",
        "        print(\"You win this round...\\n\")\n",
        "        user_score += 1\n",
        "    else:\n",
        "        print(\"Computer wins this round!\\n\")\n",
        "        computer_score += 1\n",
        "\n",
        "    print(\"Current Score - You:\", user_score, \"Computer:\", computer_score)\n",
        "\n"
      ],
      "metadata": {
        "colab": {
          "base_uri": "https://localhost:8080/"
        },
        "id": "I43qpXNNe9sl",
        "outputId": "66a883b1-026e-4c8d-83f3-faf7f4d47381"
      },
      "execution_count": 3,
      "outputs": [
        {
          "output_type": "stream",
          "name": "stdout",
          "text": [
            "HELLO..\n",
            "Instructions: Type 'rock', 'paper', or 'scissors' to play. Type 'exit' to quit the game.\n",
            "\n",
            "Enter your choice (rock/paper/scissors): paper\n",
            "Computer chose: paper\n",
            "It's a tie..\n",
            "\n",
            "Current Score - You: 0 Computer: 0\n",
            "Enter your choice (rock/paper/scissors): exit\n",
            "Thanks for playing.\n",
            "Final Scores - You: 0 Computer: 0\n"
          ]
        }
      ]
    },
    {
      "cell_type": "code",
      "source": [
        "#oassword generator\n",
        "import random\n",
        "import string\n",
        "\n",
        "print(\"Welcome to the Password Generator!\")\n",
        "\n",
        "\n",
        "length = int(input(\"Enter the desired password length: \"))\n",
        "\n",
        "characters = string.ascii_letters + string.digits + string.punctuation\n",
        "password = \"\"\n",
        "\n",
        "for i in range(length):\n",
        "    password += random.choice(characters)\n",
        "print(\"Your generated password is:\", password)\n"
      ],
      "metadata": {
        "colab": {
          "base_uri": "https://localhost:8080/"
        },
        "id": "G08HrwGUhl_O",
        "outputId": "79f3e575-57e8-4884-a977-9140fe35f7ed"
      },
      "execution_count": 4,
      "outputs": [
        {
          "output_type": "stream",
          "name": "stdout",
          "text": [
            "Welcome to the Password Generator!\n",
            "Enter the desired password length: 4\n",
            "Your generated password is: wIko\n"
          ]
        }
      ]
    },
    {
      "cell_type": "code",
      "source": [],
      "metadata": {
        "id": "3T68UxJTiKAG"
      },
      "execution_count": null,
      "outputs": []
    }
  ]
}