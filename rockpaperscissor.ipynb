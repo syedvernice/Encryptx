{
  "nbformat": 4,
  "nbformat_minor": 0,
  "metadata": {
    "colab": {
      "provenance": []
    },
    "kernelspec": {
      "name": "python3",
      "display_name": "Python 3"
    },
    "language_info": {
      "name": "python"
    }
  },
  "cells": [
    {
      "cell_type": "code",
      "execution_count": null,
      "metadata": {
        "id": "_v-3-zFQmBEl"
      },
      "outputs": [],
      "source": [
        "#rock paper scissors game\n",
        "import random\n",
        "\n",
        "user_score = 0\n",
        "computer_score = 0\n",
        "\n",
        "print(\"HELLO..\")\n",
        "print(\"Instructions: Type 'rock', 'paper', or 'scissors' to play. Type 'exit' to quit the game.\\n\")\n",
        "\n",
        "while True:\n",
        "    user_choice = input(\"Enter your choice (rock/paper/scissors): \").lower()\n",
        "\n",
        "    if user_choice == \"exit\":\n",
        "        print(\"Thanks for playing.\")\n",
        "        print(\"Final Scores - You:\", user_score, \"Computer:\", computer_score)\n",
        "        break\n",
        "\n",
        "    if user_choice not in [\"rock\", \"paper\", \"scissors\"]:\n",
        "        print(\"Invalid choice. Please choose rock, paper, or scissors.\\n\")\n",
        "        continue\n",
        "\n",
        "    computer_choice = random.choice([\"rock\", \"paper\", \"scissors\"])\n",
        "    print(\"Computer chose:\", computer_choice)\n",
        "\n",
        "    if user_choice == computer_choice:\n",
        "        print(\"It's a tie..\\n\")\n",
        "    elif (user_choice == \"rock\" and computer_choice == \"scissors\") or \\\n",
        "         (user_choice == \"scissors\" and computer_choice == \"paper\") or \\\n",
        "         (user_choice == \"paper\" and computer_choice == \"rock\"):\n",
        "        print(\"You win this round...\\n\")\n",
        "        user_score += 1\n",
        "    else:\n",
        "        print(\"Computer wins this round!\\n\")\n",
        "        computer_score += 1\n",
        "\n",
        "    print(\"Current Score - You:\", user_score, \"Computer:\", computer_score)\n",
        "\n"
      ]
    }
  ]
}