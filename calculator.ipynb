{
  "nbformat": 4,
  "nbformat_minor": 0,
  "metadata": {
    "colab": {
      "provenance": []
    },
    "kernelspec": {
      "name": "python3",
      "display_name": "Python 3"
    },
    "language_info": {
      "name": "python"
    }
  },
  "cells": [
    {
      "cell_type": "code",
      "source": [
        "!git clone https://github.com/syedvernice/Encryptx.git"
      ],
      "metadata": {
        "colab": {
          "base_uri": "https://localhost:8080/"
        },
        "id": "mjIZ7tJnsavi",
        "outputId": "93c67989-c5e3-424b-bea1-d693996c1951"
      },
      "execution_count": null,
      "outputs": [
        {
          "output_type": "stream",
          "name": "stdout",
          "text": [
            "Cloning into 'Encryptx'...\n",
            "warning: You appear to have cloned an empty repository.\n"
          ]
        }
      ]
    },
    {
      "cell_type": "code",
      "execution_count": null,
      "metadata": {
        "id": "csHuFRtE4fKW",
        "colab": {
          "base_uri": "https://localhost:8080/"
        },
        "outputId": "c817e6fc-e535-43bd-d612-3a1f76238616"
      },
      "outputs": [
        {
          "output_type": "stream",
          "name": "stdout",
          "text": [
            "Hello!\n",
            "Enter the first number: 3\n",
            "Enter the second number: 4\n",
            "\n",
            "Choose the operation:\n",
            "1. Addition (+)\n",
            "2. Subtraction (-)\n",
            "3. Multiplication (*)\n",
            "4. Division (/)\n",
            "Enter the operation (+, -, *, /): /\n",
            "\n",
            "Division result: 0.75\n"
          ]
        }
      ],
      "source": [
        "#CALCULATOR\n",
        "def calculator():\n",
        "    print(\"Hello!\")\n",
        "\n",
        "\n",
        "    try:\n",
        "        num1 = float(input(\"Enter the first number: \"))\n",
        "        num2 = float(input(\"Enter the second number: \"))\n",
        "    except ValueError:\n",
        "        print(\"Please enter numeric values.\")\n",
        "        return\n",
        "\n",
        "    print(\"\\nChoose the operation:\")\n",
        "    print(\"1. Addition (+)\")\n",
        "    print(\"2. Subtraction (-)\")\n",
        "    print(\"3. Multiplication (*)\")\n",
        "    print(\"4. Division (/)\")\n",
        "\n",
        "    art_op = input(\"Enter the operation (+, -, *, /): \")\n",
        "\n",
        "    # Perform calculation\n",
        "    if art_op == '+':\n",
        "        result = num1 + num2\n",
        "        operation = \"Addition\"\n",
        "    elif art_op == '-':\n",
        "        result = num1 - num2\n",
        "        operation = \"Subtraction\"\n",
        "    elif art_op == '*':\n",
        "        result = num1 * num2\n",
        "        operation = \"Multiplication\"\n",
        "    elif art_op == '/':\n",
        "        if num2 == 0:\n",
        "            print(\"Error: Division by zero is not allowed.\")\n",
        "            return\n",
        "        result = num1 / num2\n",
        "        operation = \"Division\"\n",
        "    else:\n",
        "        print(\"Invalid operation choice.\")\n",
        "        return\n",
        "\n",
        "\n",
        "    print(f\"\\n{operation} result: {result}\")\n",
        "\n",
        "\n",
        "calculator()\n"
      ]
    },
    {
      "cell_type": "code",
      "source": [
        "\n"
      ],
      "metadata": {
        "id": "G08HrwGUhl_O"
      },
      "execution_count": null,
      "outputs": []
    },
    {
      "cell_type": "code",
      "source": [],
      "metadata": {
        "id": "3T68UxJTiKAG"
      },
      "execution_count": null,
      "outputs": []
    }
  ]
}