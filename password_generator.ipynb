{
  "nbformat": 4,
  "nbformat_minor": 0,
  "metadata": {
    "colab": {
      "provenance": []
    },
    "kernelspec": {
      "name": "python3",
      "display_name": "Python 3"
    },
    "language_info": {
      "name": "python"
    }
  },
  "cells": [
    {
      "cell_type": "code",
      "execution_count": null,
      "metadata": {
        "id": "cc5AO_VEmT-b"
      },
      "outputs": [],
      "source": [
        "#oassword generator\n",
        "import random\n",
        "import string\n",
        "\n",
        "print(\"Welcome to the Password Generator!\")\n",
        "\n",
        "\n",
        "length = int(input(\"Enter the desired password length: \"))\n",
        "\n",
        "characters = string.ascii_letters + string.digits + string.punctuation\n",
        "password = \"\"\n",
        "\n",
        "for i in range(length):\n",
        "    password += random.choice(characters)\n",
        "print(\"Your generated password is:\", password)"
      ]
    }
  ]
}